{
 "cells": [
  {
   "cell_type": "code",
   "execution_count": 19,
   "metadata": {},
   "outputs": [],
   "source": [
    "import pandas as pd\n",
    "import requests\n",
    "import json\n",
    "import openai\n",
    "\n",
    "from config import secret_key_api_chat_gpt"
   ]
  },
  {
   "cell_type": "markdown",
   "metadata": {},
   "source": [
    "EXTRACT"
   ]
  },
  {
   "cell_type": "code",
   "execution_count": 20,
   "metadata": {},
   "outputs": [
    {
     "name": "stdout",
     "output_type": "stream",
     "text": [
      "[1, 2, 3, 4, 5]\n"
     ]
    }
   ],
   "source": [
    "df = pd.read_csv('SDVW2023.csv')\n",
    "\n",
    "user_id = df['UserID'].to_list()\n",
    "\n",
    "print(user_id)"
   ]
  },
  {
   "cell_type": "code",
   "execution_count": 21,
   "metadata": {},
   "outputs": [],
   "source": [
    "sdw_api = 'https://sdw-2023-prd.up.railway.app'\n",
    "\n",
    "def get_user(id):\n",
    "    response = requests.get(f'{sdw_api}/users/{id}') \n",
    "    return response.json() if response.status_code == 200 else None\n",
    "\n",
    "\n",
    "\n",
    "users = [user for id in user_id if (user := get_user(id)) is not None]\n",
    "\n"
   ]
  },
  {
   "cell_type": "markdown",
   "metadata": {},
   "source": [
    "TRANSFORM"
   ]
  },
  {
   "cell_type": "code",
   "execution_count": null,
   "metadata": {},
   "outputs": [],
   "source": [
    "#https://platform.openai.com/account/api-keys\n",
    "#https://platform.openai.com/docs/api-reference/introduction?lang=python\n",
    "openai.api_key = secret_key_api_chat_gpt\n",
    "\n",
    "\n",
    "def generate_ai_news(user):\n",
    "    completion = openai.ChatCompletion.create(\n",
    "    model=\"gpt-3.5-turbo\",\n",
    "    messages=[\n",
    "        {\"role\": \"system\", \"content\": \"Você é um coach.\"},\n",
    "        {\"role\": \"user\", \"content\": f\"Crie uma mensagem para {user['name']} de ânimo (com máximo 100 caracteres)\"}\n",
    "    ]\n",
    "    )\n",
    "\n",
    "    return completion.choices[0].message.content.strip('\\\"')\n",
    "\n",
    "\n",
    "for user in users:\n",
    "    new = generate_ai_news(user)\n",
    "    user['news'].append({\n",
    "        'description': new\n",
    "    })\n",
    "\n"
   ]
  },
  {
   "cell_type": "markdown",
   "metadata": {},
   "source": [
    "Load"
   ]
  },
  {
   "cell_type": "code",
   "execution_count": null,
   "metadata": {},
   "outputs": [],
   "source": [
    "def update_user(user):\n",
    "    response = requests.put(f'{sdw_api}/users/{user[\"id\"]}', json=user)\n",
    "    return True if response.status_code == 200 else False\n",
    "\n",
    "\n",
    "\n",
    "for user in users:\n",
    "    sucess = update_user(user)\n",
    "    print(f'User {user[\"name\"]} updated? {sucess}')"
   ]
  }
 ],
 "metadata": {
  "kernelspec": {
   "display_name": "venv",
   "language": "python",
   "name": "python3"
  },
  "language_info": {
   "codemirror_mode": {
    "name": "ipython",
    "version": 3
   },
   "file_extension": ".py",
   "mimetype": "text/x-python",
   "name": "python",
   "nbconvert_exporter": "python",
   "pygments_lexer": "ipython3",
   "version": "3.10.12"
  },
  "orig_nbformat": 4
 },
 "nbformat": 4,
 "nbformat_minor": 2
}
